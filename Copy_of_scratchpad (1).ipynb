{
  "cells": [
    {
      "cell_type": "code",
      "source": [
        "#PYTHON PROJECT:SURVIVAL DURATION CALCULATOR"
      ],
      "metadata": {
        "id": "Lo2OIkdgCahU"
      },
      "execution_count": null,
      "outputs": []
    },
    {
      "cell_type": "code",
      "execution_count": null,
      "metadata": {
        "id": "lIYdn1woOS1n"
      },
      "outputs": [],
      "source": [
        "#Python Project:Survival Duration Calculator\n",
        "\n",
        "#1.Defining the class or method for calculating the survival duration.\n",
        "#2.Defining the logic calculating the duration in 6 units\n",
        "#3.Successful execution of the app without any error ,and giving the output."
      ]
    },
    {
      "cell_type": "code",
      "source": [
        "class SurvivalDurationCalculator:\n",
        " def __init__(self,age_in_years):\n",
        "  self.age_in_years =age_in_years\n",
        "\n",
        " def calculate_duration(self, unit):\n",
        "  if unit == \"Months\":\n",
        "    print(f\"you have lived for approximately {age_in_years * 12} months.\")\n",
        "  elif unit ==\"weeks\":\n",
        "    print(f\"you have lived for approximately {age_in_years * 52} weeks.\")\n",
        "  elif unit  == \"Days\":\n",
        "    print(f\"you have lived for approximately {age_in_years * 365} days.\")\n",
        "  elif unit == \"hours\":\n",
        "    print(f\"you have lived for approximately {age_in_years * 365 * 24} hours.\")\n",
        "  elif unit == \"minutes\":\n",
        "    print(f\"you have lived for approximately {age_in_years * 365 * 24 * 60} minutes.\")\n",
        "  elif unit == \"seconds\":\n",
        "    print(f\"you have lived for approximately {age_in_years * 365 * 24 * 60 * 60 } seconds.\")\n",
        "\n",
        "  else:\n",
        "    print(\"invalid time unit. please enter 'months', 'weeks', 'days', 'hours', 'minutes', or 'seconds'. \")\n",
        "\n",
        "age_in_years = int(input(\"Enter your age in years: \"))\n",
        "unit= input(\"Enter a time unit (e.g., months,weeks,days,hours,minutes,seconds):\").lower()\n",
        "\n",
        "calculator = SurvivalDurationCalculator(age_in_years)\n",
        "calculator.calculate_duration(unit)\n",
        "\n"
      ],
      "metadata": {
        "id": "08JfT1cnKEZ0",
        "colab": {
          "base_uri": "https://localhost:8080/"
        },
        "outputId": "14e181cc-a180-4985-85be-6a39294bb2d5"
      },
      "execution_count": 2,
      "outputs": [
        {
          "output_type": "stream",
          "name": "stdout",
          "text": [
            "Enter your age in years: 25\n",
            "Enter a time unit (e.g., months,weeks,days,hours,minutes,seconds):Minutes\n",
            "you have lived for approximately 13140000 minutes.\n"
          ]
        }
      ]
    },
    {
      "cell_type": "code",
      "source": [],
      "metadata": {
        "id": "6DM3H6pUGxPv"
      },
      "execution_count": null,
      "outputs": []
    }
  ],
  "metadata": {
    "colab": {
      "provenance": []
    },
    "kernelspec": {
      "display_name": "Python 3",
      "name": "python3"
    }
  },
  "nbformat": 4,
  "nbformat_minor": 0
}