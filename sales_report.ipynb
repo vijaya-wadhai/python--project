{
  "cells": [
    {
      "cell_type": "markdown",
      "metadata": {
        "id": "view-in-github",
        "colab_type": "text"
      },
      "source": [
        "<a href=\"https://colab.research.google.com/github/vijaya-wadhai/python--project/blob/main/sales_report.ipynb\" target=\"_parent\"><img src=\"https://colab.research.google.com/assets/colab-badge.svg\" alt=\"Open In Colab\"/></a>"
      ]
    },
    {
      "cell_type": "code",
      "source": [
        "import csv\n",
        "\n",
        "def calculate_total_sales(filename):\n",
        "    try:\n",
        "        with open(filename, 'r') as file:\n",
        "            reader = csv.DictReader(file)\n",
        "            total = 0\n",
        "            for row in reader:\n",
        "                try:\n",
        "                    amount = float(row['Amount'])\n",
        "                    total += amount\n",
        "                except ValueError:\n",
        "                    print(f\"Invalid amount in row: {row}\")\n",
        "            print(f\"\\nTotal Sales: ₹{total:.2f}\")\n",
        "    except FileNotFoundError:\n",
        "        print(\"Error: File not found.\")\n",
        "\n",
        "# Provide your CSV file name here\n",
        "calculate_total_sales('sales.csv')\n"
      ],
      "metadata": {
        "colab": {
          "base_uri": "https://localhost:8080/"
        },
        "id": "dVyNhSGLXZ3L",
        "outputId": "e2e193aa-ef39-4115-e17f-21bb0540ae99"
      },
      "execution_count": 6,
      "outputs": [
        {
          "output_type": "stream",
          "name": "stdout",
          "text": [
            "\n",
            "Total Sales: ₹95.00\n"
          ]
        }
      ]
    }
  ],
  "metadata": {
    "colab": {
      "name": "scratchpad",
      "provenance": [],
      "include_colab_link": true
    },
    "kernelspec": {
      "display_name": "Python 3",
      "name": "python3"
    }
  },
  "nbformat": 4,
  "nbformat_minor": 0
}